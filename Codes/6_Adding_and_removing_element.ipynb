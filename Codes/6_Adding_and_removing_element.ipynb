{
 "cells": [
  {
   "cell_type": "code",
   "execution_count": null,
   "metadata": {},
   "outputs": [],
   "source": [
    "''' np.append(h,g) - append items to an array\n",
    "    np.insert(a,1,5) - insert item in an array\n",
    "    np.delete(a,[1]) - delete items from an array'''"
   ]
  },
  {
   "cell_type": "code",
   "execution_count": 1,
   "metadata": {},
   "outputs": [
    {
     "name": "stdout",
     "output_type": "stream",
     "text": [
      "[ 20  40  60  80  90 100]\n"
     ]
    }
   ],
   "source": [
    "import numpy as np\n",
    "\n",
    "a = np.array([[20,40],[60,80]])\n",
    "print(np.append(a,[90,100])) # it will first convert the 2d array into 1d and then add the values to it\n"
   ]
  },
  {
   "cell_type": "code",
   "execution_count": 4,
   "metadata": {},
   "outputs": [
    {
     "name": "stdout",
     "output_type": "stream",
     "text": [
      "[[20 50 40]\n",
      " [60 60 80]]\n"
     ]
    }
   ],
   "source": [
    "print(np.insert(a,1,[50,60], axis = 1)) # numpy will operate across colums and insert the elements to the 2nd index"
   ]
  },
  {
   "cell_type": "code",
   "execution_count": 5,
   "metadata": {},
   "outputs": [
    {
     "name": "stdout",
     "output_type": "stream",
     "text": [
      "[[20 40]\n",
      " [50 60]\n",
      " [60 80]]\n"
     ]
    }
   ],
   "source": [
    "print(np.insert(a,1,[50,60], axis = 0)) # numpy wil operate across rows and insert the elements to 2nd position"
   ]
  },
  {
   "cell_type": "code",
   "execution_count": 12,
   "metadata": {},
   "outputs": [
    {
     "name": "stdout",
     "output_type": "stream",
     "text": [
      "[[20 40]\n",
      " [60 80]]\n",
      "\n",
      "[20 60 80]\n",
      "\n",
      "[[20 40]]\n",
      "\n",
      "[[20]\n",
      " [60]]\n"
     ]
    }
   ],
   "source": [
    "# delete\n",
    "print(a)\n",
    "print()\n",
    "print(np.delete(a,1)) # it will convert a to 1d array and delete element at index 1\n",
    "print()\n",
    "print(np.delete(a,1,axis = 0))\n",
    "print()\n",
    "print(np.delete(a,1,axis = 1))"
   ]
  }
 ],
 "metadata": {
  "kernelspec": {
   "display_name": "Python 3",
   "language": "python",
   "name": "python3"
  },
  "language_info": {
   "codemirror_mode": {
    "name": "ipython",
    "version": 3
   },
   "file_extension": ".py",
   "mimetype": "text/x-python",
   "name": "python",
   "nbconvert_exporter": "python",
   "pygments_lexer": "ipython3",
   "version": "3.12.2"
  }
 },
 "nbformat": 4,
 "nbformat_minor": 2
}
