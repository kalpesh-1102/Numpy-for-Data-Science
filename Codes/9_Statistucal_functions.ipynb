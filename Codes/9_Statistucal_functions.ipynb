{
 "cells": [
  {
   "cell_type": "code",
   "execution_count": 2,
   "metadata": {},
   "outputs": [
    {
     "name": "stdout",
     "output_type": "stream",
     "text": [
      "176.0\n",
      "179.0\n",
      "200\n",
      "29.017236257093817\n",
      "842.0\n"
     ]
    }
   ],
   "source": [
    "import numpy as np\n",
    "import statistics as stats\n",
    "\n",
    "baked_food = [200,150,150,130,200,220,170,188]\n",
    "\n",
    "a = np.array(baked_food)\n",
    "print(np.mean([a])) # sum of all values/ divided by no of values\n",
    "print(np.median([a])) # central values after sorting\n",
    "print(stats.mode(baked_food)) # value occuring most no of times\n",
    "print(np.std([a])) #It indicates how much the individual data points deviate, on average, from the mean (average) of the dataset.\n",
    "print(np.var(baked_food)) # variance is the square of the standar deviation"
   ]
  },
  {
   "cell_type": "code",
   "execution_count": 3,
   "metadata": {},
   "outputs": [
    {
     "name": "stdout",
     "output_type": "stream",
     "text": [
      "[[1.         0.99015454]\n",
      " [0.99015454 1.        ]]\n"
     ]
    }
   ],
   "source": [
    "#  coefficient of corelation\n",
    "\n",
    "# -1 represents inversely proportional relationship\n",
    "# 1 represents proportional relationship \n",
    "# 0 means no relationship\n",
    "\n",
    "tobacco_consumption = [30,50,10,30,50,40]\n",
    "deaths = [100,120,70,100,120,112]\n",
    "\n",
    "print(np.corrcoef([tobacco_consumption,deaths]))\n"
   ]
  }
 ],
 "metadata": {
  "kernelspec": {
   "display_name": "Python 3",
   "language": "python",
   "name": "python3"
  },
  "language_info": {
   "codemirror_mode": {
    "name": "ipython",
    "version": 3
   },
   "file_extension": ".py",
   "mimetype": "text/x-python",
   "name": "python",
   "nbconvert_exporter": "python",
   "pygments_lexer": "ipython3",
   "version": "3.12.2"
  }
 },
 "nbformat": 4,
 "nbformat_minor": 2
}
