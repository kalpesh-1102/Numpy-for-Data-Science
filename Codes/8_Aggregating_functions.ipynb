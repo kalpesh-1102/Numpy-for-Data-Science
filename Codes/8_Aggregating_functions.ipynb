{
 "cells": [
  {
   "cell_type": "code",
   "execution_count": 13,
   "metadata": {},
   "outputs": [
    {
     "name": "stdout",
     "output_type": "stream",
     "text": [
      "140\n",
      "20\n",
      "50\n",
      "4\n",
      "(4,)\n",
      "35.0\n",
      "[ 20  50  90 140]\n",
      "[[  20   30   40   50]\n",
      " [ 600 2400 2800  500]]\n",
      "\n",
      "[[     20     600   24000 1200000]\n",
      " [     30    2400  168000 1680000]]\n"
     ]
    }
   ],
   "source": [
    "import numpy as np\n",
    "\n",
    "a = np.array([20,30,40,50])\n",
    "b = np.array([30,80,70,10])\n",
    "\n",
    "print(np.sum(a))\n",
    "print(np.min(a))\n",
    "print(np.max(a))\n",
    "print(np.size(a))\n",
    "print(np.shape(a))\n",
    "print(np.mean(a))\n",
    "print(np.cumsum(a)) # gives the cumulative sum of the elements\n",
    "print(np.cumprod([a,b], axis= 0)) # this will give cumulative product across rows\n",
    "print()\n",
    "print(np.cumprod([a,b], axis= 1)) # this will give cumulative product across columns"
   ]
  },
  {
   "cell_type": "code",
   "execution_count": 19,
   "metadata": {},
   "outputs": [
    {
     "name": "stdout",
     "output_type": "stream",
     "text": [
      "[100 150 199 200 250 130] \n",
      " [10 50 30 40 30 10]\n",
      "\n",
      "[[ 100  150  199  200  250  130]\n",
      " [1000 7500 5970 8000 7500 1300]]\n",
      "\n",
      "31270\n"
     ]
    }
   ],
   "source": [
    "a = [100,150,199,200,250,130]\n",
    "b = [10,50,30,40,30,10]\n",
    "\n",
    "price = np.array(a)\n",
    "quantity = np.array(b)\n",
    "\n",
    "print(price, \"\\n\", quantity)\n",
    "print()\n",
    "c = np.cumprod([price,quantity], axis = 0) # second row of this will give the total revenue i.e price * quantity\n",
    "print(c)\n",
    "print()\n",
    "print(c[1].sum()) # give the sum of the total revenue i.e sum of price*quantity\n"
   ]
  }
 ],
 "metadata": {
  "kernelspec": {
   "display_name": "Python 3",
   "language": "python",
   "name": "python3"
  },
  "language_info": {
   "codemirror_mode": {
    "name": "ipython",
    "version": 3
   },
   "file_extension": ".py",
   "mimetype": "text/x-python",
   "name": "python",
   "nbconvert_exporter": "python",
   "pygments_lexer": "ipython3",
   "version": "3.12.2"
  }
 },
 "nbformat": 4,
 "nbformat_minor": 2
}
