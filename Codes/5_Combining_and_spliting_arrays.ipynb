{
 "cells": [
  {
   "cell_type": "code",
   "execution_count": 1,
   "metadata": {},
   "outputs": [
    {
     "name": "stdout",
     "output_type": "stream",
     "text": [
      "[[30 40]\n",
      " [50 10]\n",
      " [ 5  5]\n",
      " [ 3  2]]\n"
     ]
    }
   ],
   "source": [
    "# Contatenate \n",
    "import numpy as np\n",
    "arr1 = np.array([[30,40],[50,10]])\n",
    "arr2 = np.array([[5,5],[3,2]])\n",
    "print(np.concatenate([arr1,arr2]))"
   ]
  },
  {
   "cell_type": "code",
   "execution_count": 2,
   "metadata": {},
   "outputs": [
    {
     "name": "stdout",
     "output_type": "stream",
     "text": [
      "[[30 40  5  5]\n",
      " [50 10  3  2]]\n"
     ]
    }
   ],
   "source": [
    "print(np.concatenate([arr1,arr2], axis = 1))\n",
    "\n",
    "# Axis 0: Refers to the rows (or the first dimension). When performing operations along axis=0, NumPy will operate down the rows.\n",
    "# Axis 1: Refers to the columns (or the second dimension). When performing operations along axis=1, NumPy will operate across the columns."
   ]
  },
  {
   "cell_type": "code",
   "execution_count": 8,
   "metadata": {},
   "outputs": [
    {
     "name": "stdout",
     "output_type": "stream",
     "text": [
      "[[30 40  5  5]\n",
      " [50 10  3  2]]\n"
     ]
    }
   ],
   "source": [
    "print(np.hstack([arr1,arr2])) # horizontal concatenation"
   ]
  },
  {
   "cell_type": "code",
   "execution_count": 10,
   "metadata": {},
   "outputs": [
    {
     "name": "stdout",
     "output_type": "stream",
     "text": [
      "[[30 40]\n",
      " [50 10]\n",
      " [ 5  5]\n",
      " [ 3  2]]\n"
     ]
    }
   ],
   "source": [
    "print(np.vstack([arr1, arr2])) # vertical contatenation"
   ]
  },
  {
   "cell_type": "code",
   "execution_count": 15,
   "metadata": {},
   "outputs": [
    {
     "name": "stdout",
     "output_type": "stream",
     "text": [
      "[array([20, 30]), array([40, 50]), array([60])]\n",
      "[40 50]\n",
      "[array([20, 30]), array([40]), array([50]), array([60])]\n"
     ]
    }
   ],
   "source": [
    "# splitting the values of an array\n",
    "a = np.array([20,30,40,50,60])\n",
    "b = np.array_split(a,3) # splitting array into 3 subarrays\n",
    "c = np.array_split(a,4) # splitting array into 4 parts\n",
    "print(b)\n",
    "print(b[1]) # printing the first part of an array\n",
    "print(c)"
   ]
  }
 ],
 "metadata": {
  "kernelspec": {
   "display_name": "Python 3",
   "language": "python",
   "name": "python3"
  },
  "language_info": {
   "codemirror_mode": {
    "name": "ipython",
    "version": 3
   },
   "file_extension": ".py",
   "mimetype": "text/x-python",
   "name": "python",
   "nbconvert_exporter": "python",
   "pygments_lexer": "ipython3",
   "version": "3.12.2"
  }
 },
 "nbformat": 4,
 "nbformat_minor": 2
}
