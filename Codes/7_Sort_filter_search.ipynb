{
 "cells": [
  {
   "cell_type": "code",
   "execution_count": 5,
   "metadata": {},
   "outputs": [
    {
     "name": "stdout",
     "output_type": "stream",
     "text": [
      "[1 3 4 6 7 8]\n",
      "[[2 3 5 6]\n",
      " [1 3 4 7]]\n"
     ]
    }
   ],
   "source": [
    "import numpy as np\n",
    "\n",
    "# sorting an array\n",
    "ar = np.array([4,6,3,8,7,1])\n",
    "arr = np.array([[2,5,3,6,],[3,1,7,4,]])\n",
    "print(np.sort(ar)) # sorts the array in ascending order\n",
    "print(np.sort(arr)) # this will sort both the rows of 2d arrays in ascending order\n"
   ]
  },
  {
   "cell_type": "code",
   "execution_count": 8,
   "metadata": {},
   "outputs": [
    {
     "name": "stdout",
     "output_type": "stream",
     "text": [
      "(array([0], dtype=int64),)\n",
      "(array([0, 1, 3], dtype=int64),)\n",
      "1\n"
     ]
    }
   ],
   "source": [
    "s = np.where(ar == 4) # gives index having 4 \n",
    "d = np.where(ar % 2 == 0) # gives indexes where element is divisible by 2\n",
    "print(s)\n",
    "print(d)\n",
    "\n",
    "sort = np.sort(ar)\n",
    "ss = np.searchsorted(sort, 3)\n",
    "print(ss)\n"
   ]
  },
  {
   "cell_type": "code",
   "execution_count": 14,
   "metadata": {},
   "outputs": [
    {
     "name": "stdout",
     "output_type": "stream",
     "text": [
      "[40 50 60]\n",
      "[20 40 60]\n",
      "[20 30 40 50 60]\n"
     ]
    }
   ],
   "source": [
    "# filter \n",
    "ar = np.array([20,30,40,50,60])\n",
    "fa = ar>35\n",
    "new = ar[fa]\n",
    "print(new)\n",
    "\n",
    "# printing even values using filter\n",
    "f = [True,False,True,False,True]\n",
    "n = ar[f]\n",
    "print(n)\n",
    "\n",
    "d = ar%2 == 0\n",
    "e = ar[d]\n",
    "print(e)"
   ]
  }
 ],
 "metadata": {
  "kernelspec": {
   "display_name": "Python 3",
   "language": "python",
   "name": "python3"
  },
  "language_info": {
   "codemirror_mode": {
    "name": "ipython",
    "version": 3
   },
   "file_extension": ".py",
   "mimetype": "text/x-python",
   "name": "python",
   "nbconvert_exporter": "python",
   "pygments_lexer": "ipython3",
   "version": "3.12.2"
  }
 },
 "nbformat": 4,
 "nbformat_minor": 2
}
